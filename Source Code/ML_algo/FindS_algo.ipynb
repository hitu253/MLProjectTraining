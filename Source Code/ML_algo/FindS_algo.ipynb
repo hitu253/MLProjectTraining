{
 "cells": [
  {
   "cell_type": "code",
   "execution_count": 6,
   "id": "0ba38c04",
   "metadata": {},
   "outputs": [
    {
     "name": "stdout",
     "output_type": "stream",
     "text": [
      "    color  toughness fungus appearance  poisonous\n",
      "0    green      hard     no     wrinkle       yes\n",
      "1    green      hard    yes      smooth        no\n",
      "2   brown       soft     no     wrinkle        no\n",
      "3  orange       hard     no     wrinkle       yes\n",
      "4    green     soft     yes      smooth       yes\n",
      "5    green     hard    yes      wrinkle       yes\n",
      "6  orange       hard     no     wrinkle       yes\n"
     ]
    }
   ],
   "source": [
    "import pandas as pd\n",
    "#import data\n",
    "data = pd.read_csv('dataset2.csv')\n",
    "print(data)"
   ]
  },
  {
   "cell_type": "code",
   "execution_count": 7,
   "id": "c4d0c6b8",
   "metadata": {},
   "outputs": [
    {
     "name": "stdout",
     "output_type": "stream",
     "text": [
      "[['green', 'hard', 'no', 'wrinkle', 'yes'], [' green', 'hard', 'yes', 'smooth', 'no'], [' brown ', 'soft', 'no', 'wrinkle', 'no'], ['orange ', 'hard', 'no', 'wrinkle', 'yes'], ['green', 'soft ', 'yes', 'smooth', 'yes'], ['green', 'hard ', 'yes ', 'wrinkle', 'yes'], ['orange ', 'hard', 'no', 'wrinkle', 'yes']]\n"
     ]
    }
   ],
   "source": [
    "#converting data into list\n",
    "datalist = data.values.tolist()\n",
    "print(datalist)"
   ]
  },
  {
   "cell_type": "code",
   "execution_count": 8,
   "id": "e6992380",
   "metadata": {},
   "outputs": [],
   "source": [
    "refhyp = list()\n",
    "temphyp = list()\n",
    "i = int(0)"
   ]
  },
  {
   "cell_type": "code",
   "execution_count": 9,
   "id": "2528763a",
   "metadata": {},
   "outputs": [
    {
     "name": "stdout",
     "output_type": "stream",
     "text": [
      "['green', 'hard', 'no', 'wrinkle', 'yes']\n"
     ]
    }
   ],
   "source": [
    "for row in datalist:\n",
    "    if row[-1] == 'yes':\n",
    "        refhyp = row\n",
    "        break;\n",
    "currenthyp = refhyp\n",
    "print(currenthyp)"
   ]
  },
  {
   "cell_type": "code",
   "execution_count": 10,
   "id": "1f807181",
   "metadata": {},
   "outputs": [
    {
     "name": "stdout",
     "output_type": "stream",
     "text": [
      "The final hypothesis is: ['?', '?', '?', '?']\n"
     ]
    }
   ],
   "source": [
    "for row in datalist:\n",
    "    i=0\n",
    "    if row[-1] == 'yes':\n",
    "        for ele in row:\n",
    "            if ele == currenthyp[i]:\n",
    "                temphyp.append(ele)\n",
    "                i=i+1\n",
    "            else:\n",
    "                temphyp.append('?')\n",
    "                i=i+1\n",
    "        currenthyp = temphyp\n",
    "        temphyp=list()\n",
    "        \n",
    "print(\"The final hypothesis is:\", currenthyp[:-1])"
   ]
  },
  {
   "cell_type": "code",
   "execution_count": null,
   "id": "4b99bd65",
   "metadata": {},
   "outputs": [],
   "source": []
  }
 ],
 "metadata": {
  "kernelspec": {
   "display_name": "Python 3 (ipykernel)",
   "language": "python",
   "name": "python3"
  },
  "language_info": {
   "codemirror_mode": {
    "name": "ipython",
    "version": 3
   },
   "file_extension": ".py",
   "mimetype": "text/x-python",
   "name": "python",
   "nbconvert_exporter": "python",
   "pygments_lexer": "ipython3",
   "version": "3.9.7"
  }
 },
 "nbformat": 4,
 "nbformat_minor": 5
}
